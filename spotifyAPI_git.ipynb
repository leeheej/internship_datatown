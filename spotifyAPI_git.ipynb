{
 "cells": [
  {
   "cell_type": "code",
   "execution_count": 1,
   "id": "7a03f105",
   "metadata": {},
   "outputs": [],
   "source": [
    "import pandas as pd\n",
    "import numpy as np\n",
    "import spotipy\n",
    "from spotipy.oauth2 import SpotifyClientCredentials\n"
   ]
  },
  {
   "cell_type": "code",
   "execution_count": 2,
   "id": "1882bc72",
   "metadata": {},
   "outputs": [],
   "source": [
    "# !pip install spotipy"
   ]
  },
  {
   "cell_type": "code",
   "execution_count": null,
   "id": "94004191",
   "metadata": {},
   "outputs": [],
   "source": [
    "client_id = \"_\"\n",
    "client_secret = \"_\"\n",
    "\n",
    "auth_manager = SpotifyClientCredentials(client_id=client_id, client_secret=client_secret)\n",
    "sp = spotipy.Spotify(auth_manager=auth_manager)\n"
   ]
  },
  {
   "cell_type": "code",
   "execution_count": 5,
   "id": "61a0f054",
   "metadata": {},
   "outputs": [
    {
     "name": "stdout",
     "output_type": "stream",
     "text": [
      "SEVENTEEN 13565887 81\n"
     ]
    }
   ],
   "source": [
    "artist = sp.search(q=\"seventeen\", type=\"artist\", limit=1)['artists']['items'][0]\n",
    "print(artist['name'], artist['followers']['total'], artist['popularity'])"
   ]
  },
  {
   "cell_type": "code",
   "execution_count": 6,
   "id": "7522fb9b",
   "metadata": {},
   "outputs": [
    {
     "name": "stdout",
     "output_type": "stream",
     "text": [
      "이름: SEVENTEEN\n",
      "팔로워: 13565887\n",
      "장르: ['k-pop']\n",
      "인기도: 81\n"
     ]
    }
   ],
   "source": [
    "# -------------------\n",
    "# 1. 아티스트 정보\n",
    "# -------------------\n",
    "artist_name = \"seventeen\"\n",
    "result = sp.search(q=artist_name, type=\"artist\", limit=1)\n",
    "artist = result['artists']['items'][0]\n",
    "\n",
    "print(\"이름:\", artist['name'])\n",
    "print(\"팔로워:\", artist['followers']['total'])\n",
    "print(\"장르:\", artist['genres'])\n",
    "print(\"인기도:\", artist['popularity'])\n"
   ]
  },
  {
   "cell_type": "markdown",
   "id": "f2f704d7",
   "metadata": {},
   "source": [
    "- popularity\n",
    "    - 0~100 범위의 정수\n",
    "\t- 높을수록 인기 있음을 의미\n",
    "\t- Spotify에서 최근 몇 주간 스트리밍 횟수, 청취자 수, 재생 추세 등을 기반으로 계산됨\n",
    "\t- 단순 재생 수가 아닌 상대적 순위 지표\n",
    "\n",
    "- 트랙 popularity : 최근 재생량 + 청취자 수 + 저장 횟수 등 반영\n",
    "- 아티스트 popularity : 아티스트 전체 트랙 인기 + 팔로워 수 + 청취자 수 반영\n",
    "- 앨범 popularity : 앨범 내 트랙들의 인기 + 발매 후 청취 추세 반영\n",
    "- 상대적 지표 : 동일 국가/지역에서 상대적 순위, 절대 재생 수 아님"
   ]
  },
  {
   "cell_type": "code",
   "execution_count": 7,
   "id": "20dceecf",
   "metadata": {},
   "outputs": [
    {
     "name": "stdout",
     "output_type": "stream",
     "text": [
      "                                track_name  \\\n",
      "0                                  THUNDER   \n",
      "1      LOVE, MONEY, FAME (feat. DJ Khaled)   \n",
      "2                                    Super   \n",
      "3                                      HOT   \n",
      "4                            Rock with you   \n",
      "5                                VERY NICE   \n",
      "6  Love Is Gone (with JOSHUA of SEVENTEEN)   \n",
      "7                                  MAESTRO   \n",
      "8                                 Darl+ing   \n",
      "9                          Don't Wanna Cry   \n",
      "\n",
      "                                          album_name release_date  popularity  \\\n",
      "0               SEVENTEEN 5th Album 'HAPPY BURSTDAY'   2025-05-26          78   \n",
      "1  LOVE, MONEY, FAME (feat. DJ Khaled) (Timbaland...   2024-11-01          64   \n",
      "2            SEVENTEEN BEST ALBUM '17 IS RIGHT HERE'   2024-04-29          67   \n",
      "3                 SEVENTEEN 4th Album 'Face the Sun'   2022-05-27          70   \n",
      "4                 SEVENTEEN 9th Mini Album 'Attacca'   2021-10-22          68   \n",
      "5                        Love&Letter repackage album   2016-07-04          67   \n",
      "6            Love Is Gone (with JOSHUA of SEVENTEEN)   2025-07-25          67   \n",
      "7            SEVENTEEN BEST ALBUM '17 IS RIGHT HERE'   2024-04-29          67   \n",
      "8                 SEVENTEEN 4th Album 'Face the Sun'   2022-05-27          62   \n",
      "9            SEVENTEEN BEST ALBUM '17 IS RIGHT HERE'   2024-04-29          60   \n",
      "\n",
      "  preview_url                       artists  \n",
      "0        None                   [SEVENTEEN]  \n",
      "1        None        [SEVENTEEN, DJ Khaled]  \n",
      "2        None                   [SEVENTEEN]  \n",
      "3        None                   [SEVENTEEN]  \n",
      "4        None                   [SEVENTEEN]  \n",
      "5        None                   [SEVENTEEN]  \n",
      "6        None  [SLANDER, SEVENTEEN, JOSHUA]  \n",
      "7        None                   [SEVENTEEN]  \n",
      "8        None                   [SEVENTEEN]  \n",
      "9        None                   [SEVENTEEN]  \n"
     ]
    }
   ],
   "source": [
    "# -------------------\n",
    "# 2. 인기 트랙\n",
    "# -------------------\n",
    "top_tracks = sp.artist_top_tracks(artist['id'], country='KR')\n",
    "track_data = []\n",
    "for track in top_tracks['tracks']:\n",
    "    track_data.append({\n",
    "        \"track_name\": track['name'],\n",
    "        \"album_name\": track['album']['name'],\n",
    "        \"release_date\": track['album']['release_date'],\n",
    "        \"popularity\": track['popularity'],\n",
    "        \"preview_url\": track['preview_url'],\n",
    "        \"artists\": [a['name'] for a in track['artists']]\n",
    "    })\n",
    "\n",
    "df_tracks = pd.DataFrame(track_data)\n",
    "df_tracks.to_csv(\"seventeen_top_tracks.csv\", index=False)\n",
    "print(df_tracks)"
   ]
  },
  {
   "cell_type": "code",
   "execution_count": null,
   "id": "5dcd2b67",
   "metadata": {},
   "outputs": [],
   "source": []
  }
 ],
 "metadata": {
  "kernelspec": {
   "display_name": "Python 3",
   "language": "python",
   "name": "python3"
  },
  "language_info": {
   "codemirror_mode": {
    "name": "ipython",
    "version": 3
   },
   "file_extension": ".py",
   "mimetype": "text/x-python",
   "name": "python",
   "nbconvert_exporter": "python",
   "pygments_lexer": "ipython3",
   "version": "3.10.11"
  }
 },
 "nbformat": 4,
 "nbformat_minor": 5
}
