{
 "cells": [
  {
   "cell_type": "code",
   "execution_count": 1,
   "id": "7a03f105",
   "metadata": {},
   "outputs": [],
   "source": [
    "import pandas as pd\n",
    "import numpy as np\n",
    "import spotipy\n",
    "from spotipy.oauth2 import SpotifyClientCredentials\n"
   ]
  },
  {
   "cell_type": "code",
   "execution_count": 2,
   "id": "1882bc72",
   "metadata": {},
   "outputs": [],
   "source": [
    "# !pip install spotipy"
   ]
  },
  {
   "cell_type": "code",
   "execution_count": null,
   "id": "94004191",
   "metadata": {},
   "outputs": [],
   "source": [
    "client_id = \"_\"\n",
    "client_secret = \"_\"\n",
    "\n",
    "auth_manager = SpotifyClientCredentials(client_id=client_id, client_secret=client_secret)\n",
    "sp = spotipy.Spotify(auth_manager=auth_manager)\n"
   ]
  },
  {
   "cell_type": "code",
   "execution_count": 5,
   "id": "61a0f054",
   "metadata": {},
   "outputs": [
    {
     "name": "stdout",
     "output_type": "stream",
     "text": [
      "SEVENTEEN 13565887 81\n"
     ]
    }
   ],
   "source": [
    "artist = sp.search(q=\"seventeen\", type=\"artist\", limit=1)['artists']['items'][0]\n",
    "print(artist['name'], artist['followers']['total'], artist['popularity'])"
   ]
  },
  {
   "cell_type": "code",
   "execution_count": 6,
   "id": "7522fb9b",
   "metadata": {},
   "outputs": [
    {
     "name": "stdout",
     "output_type": "stream",
     "text": [
      "이름: SEVENTEEN\n",
      "팔로워: 13565887\n",
      "장르: ['k-pop']\n",
      "인기도: 81\n"
     ]
    }
   ],
   "source": [
    "# -------------------\n",
    "# 1. 아티스트 정보\n",
    "# -------------------\n",
    "artist_name = \"seventeen\"\n",
    "result = sp.search(q=artist_name, type=\"artist\", limit=1)\n",
    "artist = result['artists']['items'][0]\n",
    "\n",
    "print(\"이름:\", artist['name'])\n",
    "print(\"팔로워:\", artist['followers']['total'])\n",
    "print(\"장르:\", artist['genres'])\n",
    "print(\"인기도:\", artist['popularity'])\n"
   ]
  },
  {
   "cell_type": "markdown",
   "id": "f2f704d7",
   "metadata": {},
   "source": [
    "- popularity\n",
    "    - 0~100 범위의 정수\n",
    "\t- 높을수록 인기 있음을 의미\n",
    "\t- Spotify에서 최근 몇 주간 스트리밍 횟수, 청취자 수, 재생 추세 등을 기반으로 계산됨\n",
    "\t- 단순 재생 수가 아닌 상대적 순위 지표\n",
    "\n",
    "- 트랙 popularity : 최근 재생량 + 청취자 수 + 저장 횟수 등 반영\n",
    "- 아티스트 popularity : 아티스트 전체 트랙 인기 + 팔로워 수 + 청취자 수 반영\n",
    "- 앨범 popularity : 앨범 내 트랙들의 인기 + 발매 후 청취 추세 반영\n",
    "- 상대적 지표 : 동일 국가/지역에서 상대적 순위, 절대 재생 수 아님"
   ]
  },
  {
   "cell_type": "code",
   "execution_count": 7,
   "id": "20dceecf",
   "metadata": {},
   "outputs": [
    {
     "name": "stdout",
     "output_type": "stream",
     "text": [
      "                                track_name  \\\n",
      "0                                  THUNDER   \n",
      "1      LOVE, MONEY, FAME (feat. DJ Khaled)   \n",
      "2                                    Super   \n",
      "3                                      HOT   \n",
      "4                            Rock with you   \n",
      "5                                VERY NICE   \n",
      "6  Love Is Gone (with JOSHUA of SEVENTEEN)   \n",
      "7                                  MAESTRO   \n",
      "8                                 Darl+ing   \n",
      "9                          Don't Wanna Cry   \n",
      "\n",
      "                                          album_name release_date  popularity  \\\n",
      "0               SEVENTEEN 5th Album 'HAPPY BURSTDAY'   2025-05-26          78   \n",
      "1  LOVE, MONEY, FAME (feat. DJ Khaled) (Timbaland...   2024-11-01          64   \n",
      "2            SEVENTEEN BEST ALBUM '17 IS RIGHT HERE'   2024-04-29          67   \n",
      "3                 SEVENTEEN 4th Album 'Face the Sun'   2022-05-27          70   \n",
      "4                 SEVENTEEN 9th Mini Album 'Attacca'   2021-10-22          68   \n",
      "5                        Love&Letter repackage album   2016-07-04          67   \n",
      "6            Love Is Gone (with JOSHUA of SEVENTEEN)   2025-07-25          67   \n",
      "7            SEVENTEEN BEST ALBUM '17 IS RIGHT HERE'   2024-04-29          67   \n",
      "8                 SEVENTEEN 4th Album 'Face the Sun'   2022-05-27          62   \n",
      "9            SEVENTEEN BEST ALBUM '17 IS RIGHT HERE'   2024-04-29          60   \n",
      "\n",
      "  preview_url                       artists  \n",
      "0        None                   [SEVENTEEN]  \n",
      "1        None        [SEVENTEEN, DJ Khaled]  \n",
      "2        None                   [SEVENTEEN]  \n",
      "3        None                   [SEVENTEEN]  \n",
      "4        None                   [SEVENTEEN]  \n",
      "5        None                   [SEVENTEEN]  \n",
      "6        None  [SLANDER, SEVENTEEN, JOSHUA]  \n",
      "7        None                   [SEVENTEEN]  \n",
      "8        None                   [SEVENTEEN]  \n",
      "9        None                   [SEVENTEEN]  \n"
     ]
    }
   ],
   "source": [
    "# -------------------\n",
    "# 2. 인기 트랙\n",
    "# -------------------\n",
    "top_tracks = sp.artist_top_tracks(artist['id'], country='KR')\n",
    "track_data = []\n",
    "for track in top_tracks['tracks']:\n",
    "    track_data.append({\n",
    "        \"track_name\": track['name'],\n",
    "        \"album_name\": track['album']['name'],\n",
    "        \"release_date\": track['album']['release_date'],\n",
    "        \"popularity\": track['popularity'],\n",
    "        \"preview_url\": track['preview_url'],\n",
    "        \"artists\": [a['name'] for a in track['artists']]\n",
    "    })\n",
    "\n",
    "df_tracks = pd.DataFrame(track_data)\n",
    "df_tracks.to_csv(\"seventeen_top_tracks.csv\", index=False)\n",
    "print(df_tracks)"
   ]
  },
  {
   "cell_type": "code",
   "execution_count": null,
   "id": "ee2c9893",
   "metadata": {},
   "outputs": [
    {
     "name": "stdout",
     "output_type": "stream",
     "text": [
      "아티스트 정보:\n",
      "{'artist_name': 'SEVENTEEN', 'genres': ['k-pop'], 'popularity': 81, 'followers_total': 13565887}\n",
      "\n",
      "트랙별 정보:\n",
      "                            track_name  \\\n",
      "0                              THUNDER   \n",
      "1  LOVE, MONEY, FAME (feat. DJ Khaled)   \n",
      "2                                Super   \n",
      "3                                  HOT   \n",
      "4                        Rock with you   \n",
      "\n",
      "                                          album_name release_date  \\\n",
      "0               SEVENTEEN 5th Album 'HAPPY BURSTDAY'   2025-05-26   \n",
      "1  LOVE, MONEY, FAME (feat. DJ Khaled) (Timbaland...   2024-11-01   \n",
      "2            SEVENTEEN BEST ALBUM '17 IS RIGHT HERE'   2024-04-29   \n",
      "3                 SEVENTEEN 4th Album 'Face the Sun'   2022-05-27   \n",
      "4                 SEVENTEEN 9th Mini Album 'Attacca'   2021-10-22   \n",
      "\n",
      "   duration_ms  explicit                                  available_markets  \\\n",
      "0       164040     False  [AR, AU, AT, BE, BO, BR, BG, CA, CL, CO, CR, C...   \n",
      "1       186386     False  [AR, AU, AT, BE, BO, BR, BG, CA, CL, CO, CR, C...   \n",
      "2       200386     False  [AR, AU, AT, BE, BO, BR, BG, CA, CL, CO, CR, C...   \n",
      "3       197586     False  [AR, AU, AT, BE, BO, BR, BG, CA, CL, CO, CR, C...   \n",
      "4       180360     False  [AR, AU, AT, BE, BO, BR, BG, CA, CL, CO, CR, C...   \n",
      "\n",
      "   is_playable  popularity  \n",
      "0         True          78  \n",
      "1         True          64  \n",
      "2         True          67  \n",
      "3         True          70  \n",
      "4         True          68  \n"
     ]
    }
   ],
   "source": [
    "\n",
    "# -------------------\n",
    "# 0. 인증 (Client ID / Secret 필요)\n",
    "# -------------------\n",
    "sp = spotipy.Spotify(auth_manager=SpotifyClientCredentials(\n",
    "    client_id=\"_\",\n",
    "    client_secret=\"_\"\n",
    "))\n",
    "\n",
    "# -------------------\n",
    "# 1. 아티스트 검색 & 정보 가져오기\n",
    "# -------------------\n",
    "artist_name = \"Seventeen\"  # 원하는 아티스트명\n",
    "result = sp.search(q=artist_name, type=\"artist\", limit=1)\n",
    "artist = result['artists']['items'][0]\n",
    "\n",
    "artist_info = {\n",
    "    \"artist_name\": artist['name'],\n",
    "    \"genres\": artist['genres'],\n",
    "    \"popularity\": artist['popularity'],\n",
    "    \"followers_total\": artist['followers']['total']\n",
    "}\n",
    "\n",
    "# -------------------\n",
    "# 2. 인기 트랙 가져오기\n",
    "# -------------------\n",
    "top_tracks = sp.artist_top_tracks(artist['id'], country='KR')\n",
    "\n",
    "track_data = []\n",
    "for track in top_tracks['tracks']:\n",
    "    # 기본 트랙 정보\n",
    "    track_info = {\n",
    "        \"track_name\": track['name'],\n",
    "        \"album_name\": track['album']['name'],\n",
    "        \"release_date\": track['album']['release_date'],\n",
    "        \"duration_ms\": track['duration_ms'],\n",
    "        \"explicit\": track['explicit'],\n",
    "        \"available_markets\": track['available_markets'],\n",
    "        \"is_playable\": track.get('is_playable', None),\n",
    "        \"popularity\": track['popularity'],\n",
    "    }\n",
    "\n",
    "    track_data.append(track_info)\n",
    "\n",
    "# -------------------\n",
    "# 3. DataFrame으로 정리\n",
    "# -------------------\n",
    "df_tracks = pd.DataFrame(track_data)\n",
    "\n",
    "print(\"아티스트 정보:\")\n",
    "print(artist_info)\n",
    "print(\"\\n트랙별 정보:\")\n",
    "print(df_tracks.head())"
   ]
  },
  {
   "cell_type": "code",
   "execution_count": null,
   "id": "5dcd2b67",
   "metadata": {},
   "outputs": [],
   "source": [
    "# -------------------\n",
    "# 0. 인증\n",
    "# -------------------\n",
    "sp = spotipy.Spotify(auth_manager=SpotifyClientCredentials(\n",
    "    client_id=\"_\",\n",
    "    client_secret=\"_\"\n",
    "))\n",
    "\n",
    "# -------------------\n",
    "# 1. 아티스트 검색\n",
    "# -------------------\n",
    "artist_name = \"Seventeen\"\n",
    "result = sp.search(q=artist_name, type=\"artist\", limit=1)\n",
    "artist = result['artists']['items'][0]\n",
    "artist_id = artist['id']\n",
    "\n",
    "# -------------------\n",
    "# 2. 인기 트랙 가져오기\n",
    "# -------------------\n",
    "top_tracks = sp.artist_top_tracks(artist_id, country='KR')\n",
    "\n",
    "track_ids = []\n",
    "track_names = []\n",
    "for track in top_tracks['tracks']:\n",
    "    # is_playable이 False인 트랙 제외\n",
    "    if track.get('is_playable', True):\n",
    "        track_ids.append(track['id'])\n",
    "        track_names.append(track['name'])\n",
    "    else:\n",
    "        print(f\"⚠️ 트랙 재생 불가: {track['name']} ({track['id']})\")\n",
    "\n",
    "# -------------------\n",
    "# 3. 오디오 특성 가져오기 (batch)\n",
    "# -------------------\n",
    "audio_features_list = []\n",
    "batch_size = 50  # 한 번에 최대 100개까지 가능\n",
    "for i in range(0, len(track_ids), batch_size):\n",
    "    batch_ids = track_ids[i:i+batch_size]\n",
    "    try:\n",
    "        features_batch = sp.audio_features(batch_ids)\n",
    "        for j, features in enumerate(features_batch):\n",
    "            if features is not None:\n",
    "                features['track_name'] = track_names[i + j]\n",
    "                audio_features_list.append(features)\n",
    "            else:\n",
    "                print(f\"⚠️ 오디오 특성 없음: {track_names[i + j]}\")\n",
    "    except spotipy.exceptions.SpotifyException as e:\n",
    "        print(f\"❌ API 호출 실패: {e}\")\n",
    "\n",
    "# -------------------\n",
    "# 4. DataFrame으로 정리\n",
    "# -------------------\n",
    "df_audio = pd.DataFrame(audio_features_list)\n",
    "\n",
    "# 실제 존재하는 컬럼만 필터링\n",
    "existing_columns = [col for col in columns if col in df_audio.columns]\n",
    "df_audio = df_audio[existing_columns]\n",
    "\n",
    "print(df_audio)"
   ]
  }
 ],
 "metadata": {
  "kernelspec": {
   "display_name": "Python 3",
   "language": "python",
   "name": "python3"
  },
  "language_info": {
   "codemirror_mode": {
    "name": "ipython",
    "version": 3
   },
   "file_extension": ".py",
   "mimetype": "text/x-python",
   "name": "python",
   "nbconvert_exporter": "python",
   "pygments_lexer": "ipython3",
   "version": "3.10.11"
  }
 },
 "nbformat": 4,
 "nbformat_minor": 5
}
